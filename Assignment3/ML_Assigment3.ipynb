{
 "cells": [
  {
   "cell_type": "code",
   "execution_count": 557,
   "metadata": {},
   "outputs": [],
   "source": [
    "import numpy as np\n",
    "import matplotlib.pyplot as plt\n",
    "import math"
   ]
  },
  {
   "cell_type": "markdown",
   "metadata": {},
   "source": [
    "##### Method of logistic regression provided in the class ussing Newton Method."
   ]
  },
  {
   "cell_type": "code",
   "execution_count": null,
   "metadata": {},
   "outputs": [],
   "source": [
    "def logRegF(XX, yy):\n",
    "    NN, DD = np.shape(XX)\n",
    "    xdata = np.concatenate((np.ones((NN,1)), XX), axis=1)\n",
    "    ww = np.zeros((DD+1,1))\n",
    "    for i in range(1000)    :\n",
    "        mu = 1/(1+np.exp(-np.dot(xdata,ww)))    \n",
    "        S = np.diag(np.multiply(mu,(1-mu))[:,0])\n",
    "        aux = np.linalg.inv(np.dot(np.dot(xdata.T,S),xdata))\n",
    "        aux = np.dot(np.dot(aux,xdata.T), yy-mu)\n",
    "        ww = ww + aux\n",
    "    return ww "
   ]
  },
  {
   "cell_type": "code",
   "execution_count": 556,
   "metadata": {},
   "outputs": [],
   "source": [
    "data_arr = np.loadtxt('heightWeightData.txt', delimiter=',')"
   ]
  },
  {
   "cell_type": "markdown",
   "metadata": {},
   "source": [
    "### Exercise 1"
   ]
  },
  {
   "cell_type": "markdown",
   "metadata": {},
   "source": [
    "### Exercise 1.a)"
   ]
  },
  {
   "cell_type": "code",
   "execution_count": 550,
   "metadata": {},
   "outputs": [],
   "source": [
    "def logRegG(XX, yy, learning_rate, iterations):\n",
    "    NN, DD = np.shape(XX)\n",
    "    xdata = np.concatenate((np.ones((NN,1)), XX), axis=1)\n",
    "    ww = np.zeros((DD+1,1))\n",
    "    for i in range(iterations):\n",
    "        mu = 1/(1+np.exp(-np.dot(xdata,ww)))  \n",
    "        dw = (1/NN)*(np.dot((mu-yy).T, xdata))\n",
    "        deltaww = - (np.array([learning_rate]).T  * dw.T)\n",
    "        ww = ww + deltaww\n",
    "    return(ww)"
   ]
  },
  {
   "cell_type": "markdown",
   "metadata": {},
   "source": [
    "### Exercise 1.b)"
   ]
  },
  {
   "cell_type": "markdown",
   "metadata": {},
   "source": [
    "Iterations 500000\n",
    "\n",
    "learning_rate = [0.1, 0.0001, 0.0001] "
   ]
  },
  {
   "cell_type": "code",
   "execution_count": 551,
   "metadata": {},
   "outputs": [
    {
     "data": {
      "text/plain": [
       "array([[38.43451566],\n",
       "       [-0.17318229],\n",
       "       [-0.11493934]])"
      ]
     },
     "execution_count": 551,
     "metadata": {},
     "output_type": "execute_result"
    }
   ],
   "source": [
    "XX = data_arr[:,1:]\n",
    "yy = (data_arr[:,0] - 1).reshape((-1,1)).astype(int)\n",
    "logRegG(XX,yy, [0.1, 0.0001, 0.0001], 500000)"
   ]
  },
  {
   "cell_type": "code",
   "execution_count": 552,
   "metadata": {},
   "outputs": [
    {
     "data": {
      "text/plain": [
       "array([[38.50048852],\n",
       "       [-0.17356863],\n",
       "       [-0.11491363]])"
      ]
     },
     "execution_count": 552,
     "metadata": {},
     "output_type": "execute_result"
    }
   ],
   "source": [
    "logRegF(XX,yy)"
   ]
  },
  {
   "cell_type": "markdown",
   "metadata": {},
   "source": [
    "I couldn't converge with the same learning rate for all the $\\omega$. Even with that it take many iteration to converge."
   ]
  },
  {
   "cell_type": "markdown",
   "metadata": {},
   "source": [
    "### Exercise 1.c)"
   ]
  },
  {
   "cell_type": "markdown",
   "metadata": {},
   "source": [
    "Iterations 3000\n",
    "\n",
    "learning_rate = 0.1 "
   ]
  },
  {
   "cell_type": "code",
   "execution_count": 554,
   "metadata": {},
   "outputs": [
    {
     "data": {
      "text/plain": [
       "array([[ 1.21070581],\n",
       "       [-0.17356863],\n",
       "       [-0.11491363]])"
      ]
     },
     "execution_count": 554,
     "metadata": {},
     "output_type": "execute_result"
    }
   ],
   "source": [
    "XX = data_arr[:,1:] - np.mean(data_arr[:,1:], axis=0)\n",
    "yy = (data_arr[:,0] - 1).reshape((-1,1)).astype(int)\n",
    "logRegG(XX,yy, 0.1, 3000)"
   ]
  },
  {
   "cell_type": "code",
   "execution_count": 507,
   "metadata": {},
   "outputs": [
    {
     "data": {
      "text/plain": [
       "array([[ 1.21070582],\n",
       "       [-0.17356863],\n",
       "       [-0.11491363]])"
      ]
     },
     "execution_count": 507,
     "metadata": {},
     "output_type": "execute_result"
    }
   ],
   "source": [
    "logRegF(XX,yy)"
   ]
  },
  {
   "cell_type": "markdown",
   "metadata": {},
   "source": [
    "### Exercise 1.d)"
   ]
  },
  {
   "cell_type": "markdown",
   "metadata": {},
   "source": [
    "Iterations 500\n",
    "\n",
    "learning_rate = 2 "
   ]
  },
  {
   "cell_type": "code",
   "execution_count": 555,
   "metadata": {},
   "outputs": [
    {
     "data": {
      "text/plain": [
       "array([[ 1.21070582],\n",
       "       [-1.96089546],\n",
       "       [-1.70013191]])"
      ]
     },
     "execution_count": 555,
     "metadata": {},
     "output_type": "execute_result"
    }
   ],
   "source": [
    "XX = (data_arr[:,1:]- np.mean(data_arr[:,1:], axis=0)) / np.std(data_arr[:,1:], axis=0)\n",
    "yy = (data_arr[:,0] - 1).reshape((-1,1)).astype(int)\n",
    "logRegG(XX,yy, 2, 500)"
   ]
  },
  {
   "cell_type": "code",
   "execution_count": 541,
   "metadata": {},
   "outputs": [
    {
     "data": {
      "text/plain": [
       "array([[ 1.21070582],\n",
       "       [-1.96089547],\n",
       "       [-1.7001319 ]])"
      ]
     },
     "execution_count": 541,
     "metadata": {},
     "output_type": "execute_result"
    }
   ],
   "source": [
    "logRegF(XX,yy)"
   ]
  },
  {
   "cell_type": "markdown",
   "metadata": {},
   "source": [
    "### Exercise 2"
   ]
  },
  {
   "cell_type": "code",
   "execution_count": 562,
   "metadata": {},
   "outputs": [],
   "source": [
    "px0_y0 = math.exp(2*math.cos(-1))/(2*math.pi*2.2796)\n",
    "px0_y1 = math.exp(3*math.cos(0.9))/(2*math.pi*4.8808)"
   ]
  },
  {
   "cell_type": "code",
   "execution_count": 564,
   "metadata": {},
   "outputs": [
    {
     "data": {
      "text/plain": [
       "0.20571317317650958"
      ]
     },
     "execution_count": 564,
     "metadata": {},
     "output_type": "execute_result"
    }
   ],
   "source": [
    "px0_y0"
   ]
  },
  {
   "cell_type": "code",
   "execution_count": 563,
   "metadata": {},
   "outputs": [
    {
     "data": {
      "text/plain": [
       "0.21048175536784317"
      ]
     },
     "execution_count": 563,
     "metadata": {},
     "output_type": "execute_result"
    }
   ],
   "source": [
    "px0_y1"
   ]
  },
  {
   "cell_type": "markdown",
   "metadata": {},
   "source": [
    "### Exercise 1.b)"
   ]
  },
  {
   "cell_type": "code",
   "execution_count": 621,
   "metadata": {},
   "outputs": [],
   "source": [
    "x = -math.acos(math.log(4.8808)-math.log(2.2796))+1 + 2*math.pi"
   ]
  },
  {
   "cell_type": "code",
   "execution_count": 615,
   "metadata": {},
   "outputs": [],
   "source": [
    "x = 0.5"
   ]
  },
  {
   "cell_type": "code",
   "execution_count": 616,
   "metadata": {},
   "outputs": [
    {
     "data": {
      "text/plain": [
       "0.40384992952273907"
      ]
     },
     "execution_count": 616,
     "metadata": {},
     "output_type": "execute_result"
    }
   ],
   "source": [
    "math.exp(2*math.cos(x-1))/(2*math.pi*2.2796)"
   ]
  },
  {
   "cell_type": "code",
   "execution_count": 617,
   "metadata": {},
   "outputs": [
    {
     "data": {
      "text/plain": [
       "0.45364581817049004"
      ]
     },
     "execution_count": 617,
     "metadata": {},
     "output_type": "execute_result"
    }
   ],
   "source": [
    "math.exp(3*math.cos(x-1))/(2*math.pi*4.8808)"
   ]
  },
  {
   "cell_type": "code",
   "execution_count": 607,
   "metadata": {},
   "outputs": [
    {
     "data": {
      "text/plain": [
       "3.141592653589793"
      ]
     },
     "execution_count": 607,
     "metadata": {},
     "output_type": "execute_result"
    }
   ],
   "source": [
    "math.pi"
   ]
  },
  {
   "cell_type": "code",
   "execution_count": 622,
   "metadata": {},
   "outputs": [
    {
     "data": {
      "text/plain": [
       "6.577718792924346"
      ]
     },
     "execution_count": 622,
     "metadata": {},
     "output_type": "execute_result"
    }
   ],
   "source": [
    "x"
   ]
  },
  {
   "cell_type": "markdown",
   "metadata": {},
   "source": [
    "x>1.705"
   ]
  }
 ],
 "metadata": {
  "kernelspec": {
   "display_name": "m_learning",
   "language": "python",
   "name": "m_learning"
  },
  "language_info": {
   "codemirror_mode": {
    "name": "ipython",
    "version": 3
   },
   "file_extension": ".py",
   "mimetype": "text/x-python",
   "name": "python",
   "nbconvert_exporter": "python",
   "pygments_lexer": "ipython3",
   "version": "3.7.3"
  }
 },
 "nbformat": 4,
 "nbformat_minor": 4
}

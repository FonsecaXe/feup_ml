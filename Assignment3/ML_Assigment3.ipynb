{
 "cells": [
  {
   "cell_type": "code",
   "execution_count": 1,
   "metadata": {},
   "outputs": [],
   "source": [
    "import numpy as np\n",
    "import matplotlib.pyplot as plt\n",
    "import math\n",
    "\n",
    "from IPython.display import display, Markdown"
   ]
  },
  {
   "cell_type": "markdown",
   "metadata": {},
   "source": [
    "##### Method of logistic regression provided in the class ussing Newton Method."
   ]
  },
  {
   "cell_type": "code",
   "execution_count": 2,
   "metadata": {},
   "outputs": [],
   "source": [
    "def logRegF(XX, yy):\n",
    "    NN, DD = np.shape(XX)\n",
    "    xdata = np.concatenate((np.ones((NN,1)), XX), axis=1)\n",
    "    ww = np.zeros((DD+1,1))\n",
    "    for i in range(1000)    :\n",
    "        mu = 1/(1+np.exp(-np.dot(xdata,ww)))    \n",
    "        S = np.diag(np.multiply(mu,(1-mu))[:,0])\n",
    "        aux = np.linalg.inv(np.dot(np.dot(xdata.T,S),xdata))\n",
    "        aux = np.dot(np.dot(aux,xdata.T), yy-mu)\n",
    "        ww = ww + aux\n",
    "    return ww "
   ]
  },
  {
   "cell_type": "markdown",
   "metadata": {},
   "source": [
    "### Exercise 1"
   ]
  },
  {
   "cell_type": "code",
   "execution_count": 3,
   "metadata": {},
   "outputs": [],
   "source": [
    "data_arr = np.loadtxt('heightWeightData.txt', delimiter=',') #import the data"
   ]
  },
  {
   "cell_type": "markdown",
   "metadata": {},
   "source": [
    "### Exercise 1.a)"
   ]
  },
  {
   "cell_type": "markdown",
   "metadata": {},
   "source": [
    "To symplify the search of a suitable learning rate and number of iterations, those inputs were added to the function logRegR.  "
   ]
  },
  {
   "cell_type": "code",
   "execution_count": 4,
   "metadata": {},
   "outputs": [],
   "source": [
    "def logRegG(XX, yy, learning_rate, iterations):\n",
    "    NN, DD = np.shape(XX)\n",
    "    xdata = np.concatenate((np.ones((NN,1)), XX), axis=1)\n",
    "    ww = np.zeros((DD+1,1))\n",
    "    for i in range(iterations):\n",
    "        mu = 1/(1+np.exp(-np.dot(xdata,ww)))  \n",
    "        dw = (1/NN)*(np.dot((mu-yy).T, xdata))\n",
    "        deltaww = - (np.array([learning_rate]).T  * dw.T)\n",
    "        ww = ww + deltaww\n",
    "    return(ww)"
   ]
  },
  {
   "cell_type": "markdown",
   "metadata": {},
   "source": [
    "### Exercise 1.b)"
   ]
  },
  {
   "cell_type": "markdown",
   "metadata": {},
   "source": [
    "Iterations = 500000\n",
    "\n",
    "learning_rate = [0.1, 0.0001, 0.0001] "
   ]
  },
  {
   "cell_type": "code",
   "execution_count": 5,
   "metadata": {},
   "outputs": [
    {
     "name": "stdout",
     "output_type": "stream",
     "text": [
      "[[38.43451566]\n",
      " [-0.17318229]\n",
      " [-0.11493934]]\n"
     ]
    }
   ],
   "source": [
    "XX = data_arr[:,1:]\n",
    "yy = (data_arr[:,0] - 1).reshape((-1,1)).astype(int)\n",
    "print(logRegG(XX,yy, [0.1, 0.0001, 0.0001], 500000))"
   ]
  },
  {
   "cell_type": "code",
   "execution_count": 6,
   "metadata": {},
   "outputs": [
    {
     "name": "stdout",
     "output_type": "stream",
     "text": [
      "[[38.50048852]\n",
      " [-0.17356863]\n",
      " [-0.11491363]]\n"
     ]
    }
   ],
   "source": [
    "print(logRegF(XX,yy))"
   ]
  },
  {
   "cell_type": "markdown",
   "metadata": {},
   "source": [
    "It wasn't converging with the same learning rate for all the $\\omega$. Even with different rates it take many iteration to converge."
   ]
  },
  {
   "cell_type": "markdown",
   "metadata": {},
   "source": [
    "### Exercise 1.c)"
   ]
  },
  {
   "cell_type": "markdown",
   "metadata": {},
   "source": [
    "Iterations = 3000\n",
    "\n",
    "learning_rate = 0.1 "
   ]
  },
  {
   "cell_type": "code",
   "execution_count": 7,
   "metadata": {},
   "outputs": [
    {
     "name": "stdout",
     "output_type": "stream",
     "text": [
      "[[ 1.21070581]\n",
      " [-0.17356863]\n",
      " [-0.11491363]]\n"
     ]
    }
   ],
   "source": [
    "XX = data_arr[:,1:] - np.mean(data_arr[:,1:], axis=0)\n",
    "yy = (data_arr[:,0] - 1).reshape((-1,1)).astype(int)\n",
    "print(logRegG(XX,yy, 0.1, 3000))"
   ]
  },
  {
   "cell_type": "code",
   "execution_count": 8,
   "metadata": {},
   "outputs": [
    {
     "name": "stdout",
     "output_type": "stream",
     "text": [
      "[[ 1.21070582]\n",
      " [-0.17356863]\n",
      " [-0.11491363]]\n"
     ]
    }
   ],
   "source": [
    "print(logRegF(XX,yy))"
   ]
  },
  {
   "cell_type": "markdown",
   "metadata": {},
   "source": [
    "### Exercise 1.d)"
   ]
  },
  {
   "cell_type": "markdown",
   "metadata": {},
   "source": [
    "Iterations = 500\n",
    "\n",
    "learning_rate = 2 "
   ]
  },
  {
   "cell_type": "code",
   "execution_count": 9,
   "metadata": {},
   "outputs": [
    {
     "name": "stdout",
     "output_type": "stream",
     "text": [
      "[[ 1.21070582]\n",
      " [-1.96089546]\n",
      " [-1.70013191]]\n"
     ]
    }
   ],
   "source": [
    "XX = (data_arr[:,1:]- np.mean(data_arr[:,1:], axis=0)) / np.std(data_arr[:,1:], axis=0)\n",
    "yy = (data_arr[:,0] - 1).reshape((-1,1)).astype(int)\n",
    "print(logRegG(XX,yy, 2, 500))"
   ]
  },
  {
   "cell_type": "code",
   "execution_count": 10,
   "metadata": {},
   "outputs": [
    {
     "name": "stdout",
     "output_type": "stream",
     "text": [
      "[[ 1.21070582]\n",
      " [-1.96089547]\n",
      " [-1.7001319 ]]\n"
     ]
    }
   ],
   "source": [
    "print(logRegF(XX,yy))"
   ]
  },
  {
   "cell_type": "markdown",
   "metadata": {},
   "source": [
    "### Exercise 2"
   ]
  },
  {
   "cell_type": "markdown",
   "metadata": {},
   "source": [
    "### Exercise 1.a)"
   ]
  },
  {
   "cell_type": "markdown",
   "metadata": {},
   "source": [
    "It was used the python libraries to perform the calculatoin of $P(x=0|y_0)$ and $P(x=0|y_1)$"
   ]
  },
  {
   "cell_type": "code",
   "execution_count": 11,
   "metadata": {},
   "outputs": [
    {
     "data": {
      "text/markdown": [
       "$P(x=0|y_0)=0.20571317317650958$\n",
       "\n",
       "$P(x=0|y_1)=0.21048175536784317$"
      ],
      "text/plain": [
       "<IPython.core.display.Markdown object>"
      ]
     },
     "metadata": {},
     "output_type": "display_data"
    }
   ],
   "source": [
    "px0_y0 = math.exp(2*math.cos(-1))/(2*math.pi*2.2796)\n",
    "px0_y1 = math.exp(3*math.cos(0.9))/(2*math.pi*4.8808)\n",
    "display(Markdown(rf\"\"\"$P(x=0|y_0)={px0_y0}$\n",
    "\n",
    "$P(x=0|y_1)={px0_y1}$\"\"\"))"
   ]
  },
  {
   "cell_type": "markdown",
   "metadata": {},
   "source": [
    "As it can be seen, $P(x=0|y_0) < P(x=0|y_1)$ so the decision for $x=0$ is the class $y_1$."
   ]
  },
  {
   "cell_type": "markdown",
   "metadata": {},
   "source": [
    "### Exercise 1.b)\n",
    "\n",
    "For the prediction be equal to $y_0$, the following inequality must be respeted."
   ]
  },
  {
   "cell_type": "markdown",
   "metadata": {},
   "source": [
    "$$P(x|y_0) > P(x|y_1)$$\n",
    "\n",
    "To simplify let's assume the equality.\n",
    "\n",
    "$$\\frac{e^{2cos(x-1)}}{2\\pi2.2796}=\\frac{e^{3cos(x-1)}}{2\\pi4.8808}$$\n",
    "$$\\Leftrightarrow 2cos(x-1) - ln(2.2796) = 3cos(x-1) - ln(4.8808)$$\n",
    "$$\\Leftrightarrow cos(x-1) = ln(\\frac{4.8808}{2.2796})\n",
    "\\Leftrightarrow x = \\pm cos^{-1}(ln\\frac{4.8808}{2.2796})) + 1 + 2\\pi n$$\n",
    "\n",
    "Now regarding the inequality:  \n",
    "\n",
    "$$cos^{-1}(ln(\\frac{4.8808}{2.2796})) + 1 + 2\\pi n < x < -cos^{-1}(ln(\\frac{4.8808}{2.2796})) + 1 + 2\\pi (n+1)$$\n",
    "$$n \\in \\mathbb{N}$$"
   ]
  },
  {
   "cell_type": "code",
   "execution_count": 12,
   "metadata": {},
   "outputs": [
    {
     "data": {
      "text/markdown": [
       "$$1.70546651425524 +2\\pi n< x < 6.577718792924346+2\\pi n$$"
      ],
      "text/plain": [
       "<IPython.core.display.Markdown object>"
      ]
     },
     "metadata": {},
     "output_type": "display_data"
    }
   ],
   "source": [
    "x_max = -math.acos(math.log(4.8808)-math.log(2.2796))+1 + 2*math.pi\n",
    "x_min = math.acos(math.log(4.8808)-math.log(2.2796))+1\n",
    "\n",
    "display(Markdown(rf\"\"\"$${x_min} +2\\pi n< x < {x_max}+2\\pi n$$\"\"\"))"
   ]
  },
  {
   "cell_type": "markdown",
   "metadata": {},
   "source": [
    "### Exercise 1.c)"
   ]
  },
  {
   "cell_type": "markdown",
   "metadata": {},
   "source": [
    "$$P(y_0|x) = \\frac{P(x|y_0)P(y_0)}{P(x|y_0)P(y_0)+P(x|y_1)P(y_1)}$$"
   ]
  },
  {
   "cell_type": "markdown",
   "metadata": {},
   "source": [
    "This results in:\n",
    "$$P(y_0|x) = \\frac{1}{1+\\frac{P(x|y_1)P(y_1)}{P(x|y_0)P(y_0)}}$$"
   ]
  },
  {
   "cell_type": "markdown",
   "metadata": {},
   "source": [
    "Since $P(y_0)=P(y_1)$:\n",
    "$$P(y_0|x) = \\frac{1}{1+exp(ln\\frac{P(x|y_1)}{P(x|y_0)})}$$"
   ]
  },
  {
   "cell_type": "markdown",
   "metadata": {},
   "source": [
    "$$ln\\frac{\\frac{e^{k_1cos(x-\\mu_1)}}{2\\pi I(k_1)}}{\\frac{e^{k_0cos(x-\\mu_0)}}{2\\pi I(k_0)}} = \n",
    "ln\\frac{I(k_0)e^{k_1cos(x-\\mu_1)}}{I(k_1)e^{k_0cos(x-\\mu_0)}} = \n",
    "ln\\frac{I(k_0)}{I(k_1)} + k_1cos(x-\\mu_1) - k_0cos(x-\\mu_0)$$"
   ]
  },
  {
   "cell_type": "markdown",
   "metadata": {},
   "source": [
    "Expanding, $k_1cos(x-\\mu_1) - k_0cos(x-\\mu_0)$:\n",
    "$$\\omega_1(cos(x)sen(-\\theta)+sen(x)cos(-\\theta)) =$$ \n",
    "$$ \\omega_1(sen(x)cos(\\theta)-cos(x)sen(\\theta)) =$$ \n",
    "$$\\omega_1sen(x-\\theta)$$\n",
    "where:\n",
    "$$cos(-\\theta) = \\frac{k_1sen(\\mu_1)-k_0sen(\\mu_0)}{\\sqrt{k_1^2-2k_1k_2cos(\\mu_1+\\mu_0)+k_0^2}}$$\n",
    "$$sen(-\\theta) = \\frac{k_1cos(\\mu_1)-k_0cos(\\mu_0)}{\\sqrt{k_1^2-2k_1k_2cos(\\mu_1+\\mu_0)+k_0^2}}$$\n",
    "$$\\omega_1 = \\sqrt{k_1^2-2k_1k_2cos(\\mu_1+\\mu_0)+k_0^2}$$\n",
    "$$\\omega_0 = ln\\frac{I(k_0)}{I(k_1)}$$"
   ]
  },
  {
   "cell_type": "markdown",
   "metadata": {},
   "source": [
    "Replacing in $P(y_0|x)$, we have:\n",
    "$$P(y_0|x) = \\frac{1}{1+e^{\\omega_0+\\omega_1sen(x-\\theta)}}$$"
   ]
  }
 ],
 "metadata": {
  "kernelspec": {
   "display_name": "ml_kernel",
   "language": "python",
   "name": "ml_kernel"
  },
  "language_info": {
   "codemirror_mode": {
    "name": "ipython",
    "version": 3
   },
   "file_extension": ".py",
   "mimetype": "text/x-python",
   "name": "python",
   "nbconvert_exporter": "python",
   "pygments_lexer": "ipython3",
   "version": "3.7.3"
  }
 },
 "nbformat": 4,
 "nbformat_minor": 4
}

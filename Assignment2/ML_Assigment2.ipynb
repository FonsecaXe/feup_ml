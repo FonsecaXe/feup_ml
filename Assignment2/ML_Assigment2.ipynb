{
 "cells": [
  {
   "cell_type": "markdown",
   "metadata": {},
   "source": [
    "# Assignment 02 - Machine Learning 2019/2020\n",
    "Emanuel Fonseca - up200505480 PDEEC"
   ]
  },
  {
   "cell_type": "markdown",
   "metadata": {},
   "source": [
    "***\n",
    "***"
   ]
  },
  {
   "cell_type": "markdown",
   "metadata": {},
   "source": [
    "### Exercise 1"
   ]
  },
  {
   "cell_type": "code",
   "execution_count": 1,
   "metadata": {},
   "outputs": [],
   "source": [
    "import numpy as np\n",
    "import pandas as pd\n",
    "import math\n",
    "import matplotlib.pyplot as plt"
   ]
  },
  {
   "cell_type": "markdown",
   "metadata": {},
   "source": [
    "***"
   ]
  },
  {
   "cell_type": "markdown",
   "metadata": {},
   "source": [
    "### Exercise 1.a)"
   ]
  },
  {
   "cell_type": "markdown",
   "metadata": {},
   "source": [
    "It will be calculated the w1 and w2 using the matrix formulation, as presented in the class:\n",
    "\n",
    "$$\\mathbf{w=(X^TX)^{-1}X^Ty}$$"
   ]
  },
  {
   "cell_type": "code",
   "execution_count": 2,
   "metadata": {},
   "outputs": [],
   "source": [
    "data = np.array([[368, 15, 1.7], [340,16,1.5], [665,25,2.8],[954,40,5],[331,15,1.3]])\n",
    "y = data[:,2].reshape(-1,1)\n",
    "x = data[:,:2]"
   ]
  },
  {
   "cell_type": "code",
   "execution_count": 3,
   "metadata": {},
   "outputs": [],
   "source": [
    "w = np.linalg.inv(x.T.dot(x)).dot(x.T).dot(y)"
   ]
  },
  {
   "cell_type": "code",
   "execution_count": 4,
   "metadata": {},
   "outputs": [
    {
     "name": "stdout",
     "output_type": "stream",
     "text": [
      "The w vector is: \n",
      " [[0.00277318]\n",
      " [0.0487576 ]]\n"
     ]
    }
   ],
   "source": [
    "print('The w vector is: \\n', w)"
   ]
  },
  {
   "cell_type": "markdown",
   "metadata": {},
   "source": [
    "***"
   ]
  },
  {
   "cell_type": "markdown",
   "metadata": {},
   "source": [
    "### Exercise 1.b)"
   ]
  },
  {
   "cell_type": "markdown",
   "metadata": {},
   "source": [
    "If $X^TX$ is invertible than the solution of $f(y)$ is unique and to $X^TX$ be invertible, $det|X^TX|\\neq0$.\n",
    "\n",
    "Let's append the $x_3$ feature to the X matrix."
   ]
  },
  {
   "cell_type": "code",
   "execution_count": 5,
   "metadata": {},
   "outputs": [],
   "source": [
    "x3 = np.array([383, 356, 690, 994, 346]).reshape(-1,1)"
   ]
  },
  {
   "cell_type": "code",
   "execution_count": 6,
   "metadata": {},
   "outputs": [],
   "source": [
    "x_b = np.append(x, x3, axis=1)"
   ]
  },
  {
   "cell_type": "markdown",
   "metadata": {},
   "source": [
    "Now, lets calculate the determinant of $X^TX$:"
   ]
  },
  {
   "cell_type": "code",
   "execution_count": 7,
   "metadata": {},
   "outputs": [
    {
     "name": "stdout",
     "output_type": "stream",
     "text": [
      "-0.004815404769033322\n"
     ]
    }
   ],
   "source": [
    "print(np.linalg.det(x_b.T.dot(x_b)))"
   ]
  },
  {
   "cell_type": "markdown",
   "metadata": {},
   "source": [
    "As it can be seen $det|X^TX|\\neq0$, therefore $X^TX$ is invertible, so the solution of $f(y)$ is unique.\n",
    "\n",
    "The solution for $f(y)$ is:"
   ]
  },
  {
   "cell_type": "code",
   "execution_count": 8,
   "metadata": {},
   "outputs": [],
   "source": [
    "w_b = np.linalg.inv(x_b.T.dot(x_b)).dot(x_b.T).dot(y)"
   ]
  },
  {
   "cell_type": "code",
   "execution_count": 9,
   "metadata": {},
   "outputs": [
    {
     "name": "stdout",
     "output_type": "stream",
     "text": [
      "The w vector is: \n",
      " [[-0.00145893]\n",
      " [ 0.0505187 ]\n",
      " [ 0.00269628]]\n"
     ]
    }
   ],
   "source": [
    "print('The w vector is: \\n', w_b)"
   ]
  },
  {
   "cell_type": "markdown",
   "metadata": {},
   "source": [
    "***\n",
    "***"
   ]
  },
  {
   "cell_type": "markdown",
   "metadata": {},
   "source": [
    "### Exercise 2"
   ]
  },
  {
   "cell_type": "markdown",
   "metadata": {},
   "source": [
    "### Exercise 2.a)"
   ]
  },
  {
   "cell_type": "markdown",
   "metadata": {},
   "source": [
    "See code comments for details."
   ]
  },
  {
   "cell_type": "code",
   "execution_count": 2,
   "metadata": {},
   "outputs": [],
   "source": [
    "data_arr = np.loadtxt('heightWeightData.txt', delimiter=',')"
   ]
  },
  {
   "cell_type": "code",
   "execution_count": 3,
   "metadata": {},
   "outputs": [],
   "source": [
    "#Return the probability from the normal pdf\n",
    "def normal_pdf(x, cov_det, mean_vector, cov_inv):\n",
    "    return (1/math.sqrt((2*math.pi)**2*cov_det))*np.exp((-1/2)*np.diag((x-mean_vector).dot(cov_inv).dot((x-mean_vector).transpose())))"
   ]
  },
  {
   "cell_type": "code",
   "execution_count": 4,
   "metadata": {},
   "outputs": [],
   "source": [
    "#return the classification (male/felame) using maximum a posterior probability\n",
    "def classification_map(train_data, test_data):\n",
    "    #calc of covariance matrix and mean for male data. (maximum likelihood estimation)\n",
    "    male_data = train_data[train_data[:, 0]==1]\n",
    "    male_mean = male_data[:,1:].mean(axis=0)\n",
    "    male_cov = np.cov(male_data[:, 1:].transpose())\n",
    "    male_cov_det = np.linalg.det(male_cov)\n",
    "    male_cov_inv = np.linalg.inv(male_cov)\n",
    "    #calc of covariance matrix and mean for female data. (maximum likelihood estimation)\n",
    "    female_data = data_arr[data_arr[:, 0]==2]\n",
    "    female_mean = female_data[:,1:].mean(axis=0)\n",
    "    female_cov = np.cov(female_data[:, 1:].transpose())\n",
    "    female_cov_det = np.linalg.det(female_cov)\n",
    "    female_cov_inv = np.linalg.inv(female_cov)\n",
    "    #prior probabilities\n",
    "    p_male = len(male_data)/len(train_data)\n",
    "    p_female = 1 - p_male\n",
    "    #probability of data knowing is a male/female\n",
    "    p_x_male = normal_pdf(test_data, male_cov_det, male_mean, male_cov_inv)\n",
    "    p_x_female = normal_pdf(test_data, female_cov_det, female_mean, female_cov_inv)\n",
    "    #probability of being a male/female knowing the data\n",
    "    p_male_x = p_x_male * p_male\n",
    "    p_female_x = p_x_female * p_female\n",
    "    #classification process\n",
    "    classification = np.ones(len(test_data))\n",
    "    classification[p_male_x < p_female_x] = 2\n",
    "    classification[p_male_x >= p_female_x] = 1\n",
    "    \n",
    "    return classification, p_male, p_female, p_x_male, p_x_female, p_male_x, p_female_x"
   ]
  },
  {
   "cell_type": "markdown",
   "metadata": {},
   "source": [
    "***"
   ]
  },
  {
   "cell_type": "code",
   "execution_count": 6,
   "metadata": {},
   "outputs": [
    {
     "data": {
      "text/plain": [
       "(array([1.]),\n",
       " 0.3476190476190476,\n",
       " 0.6523809523809524,\n",
       " array([7.91607213e-05]),\n",
       " array([3.99435247e-05]),\n",
       " array([2.75177745e-05]),\n",
       " array([2.60583947e-05]))"
      ]
     },
     "execution_count": 6,
     "metadata": {},
     "output_type": "execute_result"
    }
   ],
   "source": [
    "test_points = np.array([[165, 80]])\n",
    "classification_map(data_arr, np.array([[165, 80]]))"
   ]
  },
  {
   "cell_type": "markdown",
   "metadata": {},
   "source": [
    "### Exercise 2.b)\n",
    "\n",
    "Calculate $P([165, 80]^T|male)$ using the classification_map function."
   ]
  },
  {
   "cell_type": "code",
   "execution_count": 13,
   "metadata": {},
   "outputs": [
    {
     "name": "stdout",
     "output_type": "stream",
     "text": [
      "P([165, 80]|male) = 7.916072126137533e-05\n"
     ]
    }
   ],
   "source": [
    "p_x_male = classification_map(data_arr, np.array([[165, 80]]))[3]\n",
    "print(\"P([165, 80]|male) = {}\".format(p_x_male[0]))"
   ]
  },
  {
   "cell_type": "markdown",
   "metadata": {},
   "source": [
    "***"
   ]
  },
  {
   "cell_type": "markdown",
   "metadata": {},
   "source": [
    "### Exercise 2.c)"
   ]
  },
  {
   "cell_type": "markdown",
   "metadata": {},
   "source": [
    "note: the pandas lib was used to return a table-like format"
   ]
  },
  {
   "cell_type": "code",
   "execution_count": 14,
   "metadata": {},
   "outputs": [
    {
     "name": "stdout",
     "output_type": "stream",
     "text": [
      "   Height  Weight   Class\n",
      "0     165      80    male\n",
      "1     181      65    male\n",
      "2     161      57  female\n",
      "3     181      77    male\n"
     ]
    }
   ],
   "source": [
    "test_points = np.array([[165, 80], [181, 65], [161, 57], [181, 77]])\n",
    "classification = classification_map(data_arr, test_points)[0]\n",
    "df_classification = pd.DataFrame({'Height': test_points[:,0], 'Weight': test_points[:,1], 'Class': classification})\n",
    "df_classification.loc[df_classification.Class == 2, 'Class'] = 'female'\n",
    "df_classification.loc[df_classification.Class == 1, 'Class'] = 'male'\n",
    "print(df_classification)"
   ]
  },
  {
   "cell_type": "markdown",
   "metadata": {},
   "source": [
    "***"
   ]
  },
  {
   "cell_type": "markdown",
   "metadata": {},
   "source": [
    "### Exercise 2.d)"
   ]
  },
  {
   "cell_type": "markdown",
   "metadata": {},
   "source": [
    "Compute the D and S directly from the data array."
   ]
  },
  {
   "cell_type": "code",
   "execution_count": 15,
   "metadata": {},
   "outputs": [],
   "source": [
    "d_s_data = data_arr.copy()\n",
    "d_s_data[:, 1] = data_arr[:, 1] - data_arr[:, 2]\n",
    "d_s_data[:, 2] = (data_arr[:, 1] + data_arr[:, 2]) / 2"
   ]
  },
  {
   "cell_type": "code",
   "execution_count": 16,
   "metadata": {},
   "outputs": [
    {
     "name": "stdout",
     "output_type": "stream",
     "text": [
      "P([165, 80]|male) = 7.916072126137416e-05\n"
     ]
    }
   ],
   "source": [
    "p_x_male = classification_map(d_s_data, np.array([[165-80, (165+80)/2]]))[3]\n",
    "print(\"P([165, 80]|male) = {}\".format(p_x_male[0]))"
   ]
  },
  {
   "cell_type": "code",
   "execution_count": 17,
   "metadata": {},
   "outputs": [
    {
     "name": "stdout",
     "output_type": "stream",
     "text": [
      "     D    S Class\n",
      "0   85  122  male\n",
      "1  116  123  male\n",
      "2  104  109  male\n",
      "3  104  129  male\n"
     ]
    }
   ],
   "source": [
    "test_points_d_s = test_points.copy()\n",
    "test_points_d_s[:, 0] = test_points[:, 0] - test_points[:, 1]\n",
    "test_points_d_s[:, 1] = (test_points[:, 0] + test_points[:, 1]) / 2\n",
    "classification = classification_map(d_s_data, test_points_d_s)[0]\n",
    "df_classification = pd.DataFrame({'D': test_points_d_s[:,0], 'S': test_points_d_s[:,1], 'Class': classification})\n",
    "df_classification.loc[df_classification.Class == 2, 'Class'] = 'female'\n",
    "df_classification.loc[df_classification.Class == 1, 'Class'] = 'male'\n",
    "print(df_classification)"
   ]
  },
  {
   "cell_type": "markdown",
   "metadata": {},
   "source": [
    "***"
   ]
  },
  {
   "cell_type": "markdown",
   "metadata": {},
   "source": [
    "### Exercise 2.e)"
   ]
  },
  {
   "cell_type": "code",
   "execution_count": 18,
   "metadata": {},
   "outputs": [],
   "source": [
    "import scipy.linalg as linalg"
   ]
  },
  {
   "cell_type": "markdown",
   "metadata": {},
   "source": [
    "We need to find $[z_1 z_2]^T = C[h w]^T$, where $\\sum(C[h w]^T) = I$\n",
    "\n",
    "Knowing that $\\sum(CX) = E(CXX^TC^T)$, where $X = [h w]^T$. Then $\\sum(CX) = C\\sum(X)C^T$.\n",
    "\n",
    "Assuming that $C = C^T$, doing the \"algebra\" we get:\n",
    "\n",
    "$$C = (\\sum X)^{-1/2}$$\n"
   ]
  },
  {
   "cell_type": "code",
   "execution_count": 19,
   "metadata": {},
   "outputs": [],
   "source": [
    "cov = np.cov(data_arr[:,1:].transpose())\n",
    "c = linalg.sqrtm(np.linalg.inv(cov))\n",
    "y = c.dot(data_arr[:,1:].transpose())"
   ]
  },
  {
   "cell_type": "code",
   "execution_count": 20,
   "metadata": {},
   "outputs": [
    {
     "name": "stdout",
     "output_type": "stream",
     "text": [
      "As shown the new covariance is:\n",
      " [[1.00000000e+00 2.34774163e-16]\n",
      " [2.34774163e-16 1.00000000e+00]]\n"
     ]
    }
   ],
   "source": [
    "print(\"As shown the new covariance is:\\n\", np.cov(y))"
   ]
  }
 ],
 "metadata": {
  "kernelspec": {
   "display_name": "ml_kernel",
   "language": "python",
   "name": "ml_kernel"
  },
  "language_info": {
   "codemirror_mode": {
    "name": "ipython",
    "version": 3
   },
   "file_extension": ".py",
   "mimetype": "text/x-python",
   "name": "python",
   "nbconvert_exporter": "python",
   "pygments_lexer": "ipython3",
   "version": "3.7.3"
  }
 },
 "nbformat": 4,
 "nbformat_minor": 4
}
